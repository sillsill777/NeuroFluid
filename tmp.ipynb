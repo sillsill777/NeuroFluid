{
 "cells": [
  {
   "cell_type": "code",
   "execution_count": 1,
   "id": "f088db92",
   "metadata": {},
   "outputs": [],
   "source": [
    "import numpy as np"
   ]
  },
  {
   "cell_type": "code",
   "execution_count": 2,
   "id": "a37ec146",
   "metadata": {},
   "outputs": [],
   "source": [
    "path='./data/data_release/watercube/view_1/train/particles/0031.npz'"
   ]
  },
  {
   "cell_type": "code",
   "execution_count": 3,
   "id": "973ca35d",
   "metadata": {},
   "outputs": [],
   "source": [
    "info=np.load(path)"
   ]
  },
  {
   "cell_type": "code",
   "execution_count": 4,
   "id": "182348c0",
   "metadata": {},
   "outputs": [],
   "source": [
    "pos=info['pos']"
   ]
  },
  {
   "cell_type": "code",
   "execution_count": 5,
   "id": "ddbf2408",
   "metadata": {},
   "outputs": [],
   "source": [
    "vel=info['vel']"
   ]
  },
  {
   "cell_type": "code",
   "execution_count": 6,
   "id": "606b9a72",
   "metadata": {},
   "outputs": [
    {
     "data": {
      "text/plain": [
       "(11532, 3)"
      ]
     },
     "execution_count": 6,
     "metadata": {},
     "output_type": "execute_result"
    }
   ],
   "source": [
    "pos.shape"
   ]
  },
  {
   "cell_type": "code",
   "execution_count": 7,
   "id": "9d122105",
   "metadata": {},
   "outputs": [
    {
     "data": {
      "text/plain": [
       "(11532, 3)"
      ]
     },
     "execution_count": 7,
     "metadata": {},
     "output_type": "execute_result"
    }
   ],
   "source": [
    "vel.shape"
   ]
  },
  {
   "cell_type": "code",
   "execution_count": 8,
   "id": "ffe7c18d",
   "metadata": {},
   "outputs": [
    {
     "data": {
      "text/plain": [
       "array([[-0.1122255 , -0.13132206,  0.30120471],\n",
       "       [-0.07341715, -0.21227652,  0.28715307],\n",
       "       [-0.24456607, -0.30946425,  0.25851956],\n",
       "       ...,\n",
       "       [ 0.00926152,  0.08704942, -0.17211027],\n",
       "       [-0.05239492,  0.10150888, -0.07198907],\n",
       "       [ 0.02637916,  0.09987444, -0.10961605]])"
      ]
     },
     "execution_count": 8,
     "metadata": {},
     "output_type": "execute_result"
    }
   ],
   "source": [
    "vel"
   ]
  },
  {
   "cell_type": "code",
   "execution_count": 9,
   "id": "0629433c",
   "metadata": {},
   "outputs": [
    {
     "data": {
      "text/plain": [
       "array([[ 0.82956833,  0.80945134, -0.54887277],\n",
       "       [ 0.78618199,  0.80657172, -0.57887346],\n",
       "       [ 0.76032674,  0.79596716, -0.60417002],\n",
       "       ...,\n",
       "       [-0.87328374, -0.92918098, -0.28509396],\n",
       "       [-0.94089919, -0.93154454, -0.27078831],\n",
       "       [-0.89966094, -0.9314456 , -0.22179897]])"
      ]
     },
     "execution_count": 9,
     "metadata": {},
     "output_type": "execute_result"
    }
   ],
   "source": [
    "pos"
   ]
  },
  {
   "cell_type": "code",
   "execution_count": 10,
   "id": "fc9d41ea",
   "metadata": {},
   "outputs": [],
   "source": [
    "import torch"
   ]
  },
  {
   "cell_type": "code",
   "execution_count": 11,
   "id": "0fcfe020",
   "metadata": {},
   "outputs": [
    {
     "data": {
      "text/plain": [
       "True"
      ]
     },
     "execution_count": 11,
     "metadata": {},
     "output_type": "execute_result"
    }
   ],
   "source": [
    "torch.cuda.is_available()"
   ]
  },
  {
   "cell_type": "code",
   "execution_count": 12,
   "id": "22fba338",
   "metadata": {},
   "outputs": [
    {
     "data": {
      "text/plain": [
       "'NVIDIA GeForce RTX 2070'"
      ]
     },
     "execution_count": 12,
     "metadata": {},
     "output_type": "execute_result"
    }
   ],
   "source": [
    "torch.cuda.get_device_name()"
   ]
  },
  {
   "cell_type": "code",
   "execution_count": 13,
   "id": "0b277bdf",
   "metadata": {},
   "outputs": [],
   "source": [
    "a=torch.rand(4,4,3)"
   ]
  },
  {
   "cell_type": "code",
   "execution_count": 14,
   "id": "490e36d5",
   "metadata": {},
   "outputs": [
    {
     "data": {
      "text/plain": [
       "tensor([[[0.4173, 0.8210, 0.3886],\n",
       "         [0.4841, 0.7635, 0.9360],\n",
       "         [0.8610, 0.7443, 0.6859],\n",
       "         [0.1779, 0.2879, 0.7819]],\n",
       "\n",
       "        [[0.1983, 0.2344, 0.6717],\n",
       "         [0.4997, 0.2926, 0.4725],\n",
       "         [0.0476, 0.4060, 0.5446],\n",
       "         [0.5764, 0.1469, 0.0122]],\n",
       "\n",
       "        [[0.4499, 0.5283, 0.9087],\n",
       "         [0.1496, 0.2184, 0.6285],\n",
       "         [0.9981, 0.9716, 0.0513],\n",
       "         [0.3265, 0.2090, 0.4802]],\n",
       "\n",
       "        [[0.0402, 0.7611, 0.6148],\n",
       "         [0.2352, 0.5649, 0.0130],\n",
       "         [0.1171, 0.9492, 0.6544],\n",
       "         [0.2953, 0.8314, 0.6489]]])"
      ]
     },
     "execution_count": 14,
     "metadata": {},
     "output_type": "execute_result"
    }
   ],
   "source": [
    "a"
   ]
  },
  {
   "cell_type": "code",
   "execution_count": 15,
   "id": "5cc4d9bc",
   "metadata": {},
   "outputs": [
    {
     "data": {
      "text/plain": [
       "tensor([[1.6269, 2.1835, 2.2912, 1.2477],\n",
       "        [1.1044, 1.2648, 0.9982, 0.7355],\n",
       "        [1.8870, 0.9965, 2.0210, 1.0158],\n",
       "        [1.4161, 0.8131, 1.7206, 1.7756]])"
      ]
     },
     "execution_count": 15,
     "metadata": {},
     "output_type": "execute_result"
    }
   ],
   "source": [
    "a.sum(dim=-1)"
   ]
  },
  {
   "cell_type": "code",
   "execution_count": 16,
   "id": "0894f580",
   "metadata": {},
   "outputs": [],
   "source": [
    "b=a/torch.norm(a,dim=-1,keepdim=True)"
   ]
  },
  {
   "cell_type": "code",
   "execution_count": 17,
   "id": "d9676029",
   "metadata": {},
   "outputs": [
    {
     "data": {
      "text/plain": [
       "tensor([[[0.4175, 0.8213, 0.3888],\n",
       "         [0.3720, 0.5867, 0.7193],\n",
       "         [0.6480, 0.5601, 0.5162],\n",
       "         [0.2088, 0.3379, 0.9177]],\n",
       "\n",
       "        [[0.2685, 0.3174, 0.9095],\n",
       "         [0.6687, 0.3915, 0.6322],\n",
       "         [0.0699, 0.5962, 0.7998],\n",
       "         [0.9688, 0.2470, 0.0205]],\n",
       "\n",
       "        [[0.3935, 0.4621, 0.7948],\n",
       "         [0.2193, 0.3202, 0.9216],\n",
       "         [0.7161, 0.6971, 0.0368],\n",
       "         [0.5290, 0.3387, 0.7781]],\n",
       "\n",
       "        [[0.0410, 0.7772, 0.6279],\n",
       "         [0.3843, 0.9230, 0.0212],\n",
       "         [0.1010, 0.8191, 0.5647],\n",
       "         [0.2697, 0.7591, 0.5925]]])"
      ]
     },
     "execution_count": 17,
     "metadata": {},
     "output_type": "execute_result"
    }
   ],
   "source": [
    "b"
   ]
  },
  {
   "cell_type": "code",
   "execution_count": 18,
   "id": "c4ca2633",
   "metadata": {},
   "outputs": [
    {
     "data": {
      "text/plain": [
       "tensor([[1.0000, 1.0000, 1.0000, 1.0000],\n",
       "        [1.0000, 1.0000, 1.0000, 1.0000],\n",
       "        [1.0000, 1.0000, 1.0000, 1.0000],\n",
       "        [1.0000, 1.0000, 1.0000, 1.0000]])"
      ]
     },
     "execution_count": 18,
     "metadata": {},
     "output_type": "execute_result"
    }
   ],
   "source": [
    "(b*b).sum(dim=-1)"
   ]
  },
  {
   "cell_type": "code",
   "execution_count": 19,
   "id": "e1086638",
   "metadata": {},
   "outputs": [
    {
     "data": {
      "text/plain": [
       "torch.Size([4, 4, 3])"
      ]
     },
     "execution_count": 19,
     "metadata": {},
     "output_type": "execute_result"
    }
   ],
   "source": [
    "b.shape"
   ]
  },
  {
   "cell_type": "code",
   "execution_count": 20,
   "id": "b212164f",
   "metadata": {},
   "outputs": [
    {
     "data": {
      "text/plain": [
       "tensor([[0.9992, 1.6932, 1.7658, 0.7259],\n",
       "        [0.5455, 0.5585, 0.4637, 0.3539],\n",
       "        [1.3073, 0.4651, 1.9428, 0.3809],\n",
       "        [0.9589, 0.3747, 1.3428, 1.1995]])"
      ]
     },
     "execution_count": 20,
     "metadata": {},
     "output_type": "execute_result"
    }
   ],
   "source": [
    "(a*a).sum(dim=-1)"
   ]
  },
  {
   "cell_type": "code",
   "execution_count": 21,
   "id": "66d549d5",
   "metadata": {},
   "outputs": [
    {
     "data": {
      "text/plain": [
       "tensor([[[0.4173, 0.8210, 0.3886, 0.4173, 0.8210, 0.3886],\n",
       "         [0.4841, 0.7635, 0.9360, 0.4841, 0.7635, 0.9360],\n",
       "         [0.8610, 0.7443, 0.6859, 0.8610, 0.7443, 0.6859],\n",
       "         [0.1779, 0.2879, 0.7819, 0.1779, 0.2879, 0.7819]],\n",
       "\n",
       "        [[0.1983, 0.2344, 0.6717, 0.1983, 0.2344, 0.6717],\n",
       "         [0.4997, 0.2926, 0.4725, 0.4997, 0.2926, 0.4725],\n",
       "         [0.0476, 0.4060, 0.5446, 0.0476, 0.4060, 0.5446],\n",
       "         [0.5764, 0.1469, 0.0122, 0.5764, 0.1469, 0.0122]],\n",
       "\n",
       "        [[0.4499, 0.5283, 0.9087, 0.4499, 0.5283, 0.9087],\n",
       "         [0.1496, 0.2184, 0.6285, 0.1496, 0.2184, 0.6285],\n",
       "         [0.9981, 0.9716, 0.0513, 0.9981, 0.9716, 0.0513],\n",
       "         [0.3265, 0.2090, 0.4802, 0.3265, 0.2090, 0.4802]],\n",
       "\n",
       "        [[0.0402, 0.7611, 0.6148, 0.0402, 0.7611, 0.6148],\n",
       "         [0.2352, 0.5649, 0.0130, 0.2352, 0.5649, 0.0130],\n",
       "         [0.1171, 0.9492, 0.6544, 0.1171, 0.9492, 0.6544],\n",
       "         [0.2953, 0.8314, 0.6489, 0.2953, 0.8314, 0.6489]]])"
      ]
     },
     "execution_count": 21,
     "metadata": {},
     "output_type": "execute_result"
    }
   ],
   "source": [
    "torch.cat([a,a],-1)"
   ]
  },
  {
   "cell_type": "code",
   "execution_count": 22,
   "id": "25097dd0",
   "metadata": {},
   "outputs": [],
   "source": [
    "from PIL import Image"
   ]
  },
  {
   "cell_type": "code",
   "execution_count": 23,
   "id": "3786a656",
   "metadata": {},
   "outputs": [],
   "source": [
    "img=Image.open('./data/data_release/watercube/view_1/train/0001.png')"
   ]
  },
  {
   "cell_type": "code",
   "execution_count": 24,
   "id": "01c4d2d9",
   "metadata": {},
   "outputs": [
    {
     "data": {
      "image/png": "[encoded data removed]",
      "text/plain": [
       "<PIL.PngImagePlugin.PngImageFile image mode=RGBA size=400x400>"
      ]
     },
     "execution_count": 24,
     "metadata": {},
     "output_type": "execute_result"
    }
   ],
   "source": [
    "img"
   ]
  },
  {
   "cell_type": "code",
   "execution_count": 25,
   "id": "40e65495",
   "metadata": {},
   "outputs": [
    {
     "data": {
      "text/plain": [
       "(400, 400)"
      ]
     },
     "execution_count": 25,
     "metadata": {},
     "output_type": "execute_result"
    }
   ],
   "source": [
    "img.size"
   ]
  },
  {
   "cell_type": "code",
   "execution_count": 26,
   "id": "6d39a96f",
   "metadata": {},
   "outputs": [],
   "source": [
    "im=np.asarray(img)/255."
   ]
  },
  {
   "cell_type": "code",
   "execution_count": 27,
   "id": "43df9de4",
   "metadata": {},
   "outputs": [],
   "source": [
    "a=im[...,:3]*im[...,-1:]+(1-im[...,-1:])"
   ]
  },
  {
   "cell_type": "code",
   "execution_count": 28,
   "id": "be7bbea7",
   "metadata": {},
   "outputs": [
    {
     "data": {
      "text/plain": [
       "(400, 400, 1)"
      ]
     },
     "execution_count": 28,
     "metadata": {},
     "output_type": "execute_result"
    }
   ],
   "source": [
    "im[...,-1:].shape"
   ]
  },
  {
   "cell_type": "code",
   "execution_count": 29,
   "id": "cb82ed1c",
   "metadata": {},
   "outputs": [
    {
     "data": {
      "text/plain": [
       "array([[[1., 1., 1.],\n",
       "        [1., 1., 1.],\n",
       "        [1., 1., 1.],\n",
       "        ...,\n",
       "        [1., 1., 1.],\n",
       "        [1., 1., 1.],\n",
       "        [1., 1., 1.]],\n",
       "\n",
       "       [[1., 1., 1.],\n",
       "        [1., 1., 1.],\n",
       "        [1., 1., 1.],\n",
       "        ...,\n",
       "        [1., 1., 1.],\n",
       "        [1., 1., 1.],\n",
       "        [1., 1., 1.]],\n",
       "\n",
       "       [[1., 1., 1.],\n",
       "        [1., 1., 1.],\n",
       "        [1., 1., 1.],\n",
       "        ...,\n",
       "        [1., 1., 1.],\n",
       "        [1., 1., 1.],\n",
       "        [1., 1., 1.]],\n",
       "\n",
       "       ...,\n",
       "\n",
       "       [[1., 1., 1.],\n",
       "        [1., 1., 1.],\n",
       "        [1., 1., 1.],\n",
       "        ...,\n",
       "        [1., 1., 1.],\n",
       "        [1., 1., 1.],\n",
       "        [1., 1., 1.]],\n",
       "\n",
       "       [[1., 1., 1.],\n",
       "        [1., 1., 1.],\n",
       "        [1., 1., 1.],\n",
       "        ...,\n",
       "        [1., 1., 1.],\n",
       "        [1., 1., 1.],\n",
       "        [1., 1., 1.]],\n",
       "\n",
       "       [[1., 1., 1.],\n",
       "        [1., 1., 1.],\n",
       "        [1., 1., 1.],\n",
       "        ...,\n",
       "        [1., 1., 1.],\n",
       "        [1., 1., 1.],\n",
       "        [1., 1., 1.]]])"
      ]
     },
     "execution_count": 29,
     "metadata": {},
     "output_type": "execute_result"
    }
   ],
   "source": [
    "a"
   ]
  },
  {
   "cell_type": "code",
   "execution_count": 30,
   "id": "de7ed139",
   "metadata": {},
   "outputs": [],
   "source": [
    "i=Image.fromarray((a*255).astype(np.uint8))"
   ]
  },
  {
   "cell_type": "code",
   "execution_count": 31,
   "id": "d027dd88",
   "metadata": {},
   "outputs": [
    {
     "data": {
      "image/png": "[encoded data removed]",
      "text/plain": [
       "<PIL.Image.Image image mode=RGB size=400x400>"
      ]
     },
     "execution_count": 31,
     "metadata": {},
     "output_type": "execute_result"
    }
   ],
   "source": [
    "i"
   ]
  },
  {
   "cell_type": "code",
   "execution_count": 32,
   "id": "3355c2a9",
   "metadata": {},
   "outputs": [
    {
     "data": {
      "text/plain": [
       "(400, 400, 3)"
      ]
     },
     "execution_count": 32,
     "metadata": {},
     "output_type": "execute_result"
    }
   ],
   "source": [
    "a.shape"
   ]
  },
  {
   "cell_type": "code",
   "execution_count": 33,
   "id": "1af4de22",
   "metadata": {},
   "outputs": [],
   "source": [
    "import joblib"
   ]
  },
  {
   "cell_type": "code",
   "execution_count": 34,
   "id": "b930a039",
   "metadata": {},
   "outputs": [],
   "source": [
    "info=joblib.load('./data/data_release/watercube/box.pt')"
   ]
  },
  {
   "cell_type": "code",
   "execution_count": 35,
   "id": "683c92a5",
   "metadata": {},
   "outputs": [
    {
     "data": {
      "text/plain": [
       "{'box': array([[-0.57261693,  0.88702404,  2.455204  ],\n",
       "        [-0.46284708,  0.69346446,  2.455204  ],\n",
       "        [ 0.50963444,  0.62545127,  2.455204  ],\n",
       "        ...,\n",
       "        [ 0.70023715,  1.        , -0.8518951 ],\n",
       "        [-0.4837171 ,  1.        , -0.28362662],\n",
       "        [-0.77042687,  1.        , -0.8799314 ]], dtype=float32),\n",
       " 'box_normals': array([[-0., -0., -1.],\n",
       "        [-0., -0., -1.],\n",
       "        [-0., -0., -1.],\n",
       "        ...,\n",
       "        [-0., -1., -0.],\n",
       "        [-0., -1., -0.],\n",
       "        [-0., -1., -0.]], dtype=float32)}"
      ]
     },
     "execution_count": 35,
     "metadata": {},
     "output_type": "execute_result"
    }
   ],
   "source": [
    "info"
   ]
  },
  {
   "cell_type": "code",
   "execution_count": 36,
   "id": "853b5f91",
   "metadata": {},
   "outputs": [],
   "source": [
    "box=info['box']"
   ]
  },
  {
   "cell_type": "code",
   "execution_count": 37,
   "id": "1c01f563",
   "metadata": {},
   "outputs": [
    {
     "data": {
      "text/plain": [
       "(34489, 3)"
      ]
     },
     "execution_count": 37,
     "metadata": {},
     "output_type": "execute_result"
    }
   ],
   "source": [
    "box.shape"
   ]
  },
  {
   "cell_type": "code",
   "execution_count": 38,
   "id": "f06cf4b0",
   "metadata": {},
   "outputs": [],
   "source": [
    "norm=info['box_normals']"
   ]
  },
  {
   "cell_type": "code",
   "execution_count": 39,
   "id": "b31fc64a",
   "metadata": {},
   "outputs": [
    {
     "data": {
      "text/plain": [
       "(34489, 3)"
      ]
     },
     "execution_count": 39,
     "metadata": {},
     "output_type": "execute_result"
    }
   ],
   "source": [
    "norm.shape"
   ]
  },
  {
   "cell_type": "code",
   "execution_count": 40,
   "id": "512e1fd4",
   "metadata": {},
   "outputs": [],
   "source": [
    "import matplotlib.pyplot as plt"
   ]
  },
  {
   "cell_type": "code",
   "execution_count": 41,
   "id": "37648ad2",
   "metadata": {},
   "outputs": [],
   "source": [
    "from mpl_toolkits.mplot3d import Axes3D"
   ]
  },
  {
   "cell_type": "code",
   "execution_count": 42,
   "id": "7a08c32a",
   "metadata": {},
   "outputs": [],
   "source": [
    "%matplotlib tk"
   ]
  },
  {
   "cell_type": "code",
   "execution_count": 43,
   "id": "1c8e7cd0",
   "metadata": {},
   "outputs": [],
   "source": [
    "fig = plt.figure(figsize=(16, 16))\n",
    "ax = fig.add_subplot(111, projection='3d')\n",
    "ax.scatter(box[:,0], box[:,1], box[:,2], marker='o', s=10, cmap='Greens',alpha=0.7)\n",
    "\n",
    "plt.show()"
   ]
  },
  {
   "cell_type": "code",
   "execution_count": 44,
   "id": "7366bd44",
   "metadata": {},
   "outputs": [
    {
     "data": {
      "text/plain": [
       "array([-0., -1., -0.], dtype=float32)"
      ]
     },
     "execution_count": 44,
     "metadata": {},
     "output_type": "execute_result"
    }
   ],
   "source": [
    "norm[28590]"
   ]
  },
  {
   "cell_type": "code",
   "execution_count": 45,
   "id": "fe9afd89",
   "metadata": {},
   "outputs": [
    {
     "data": {
      "text/plain": [
       "3889"
      ]
     },
     "execution_count": 45,
     "metadata": {},
     "output_type": "execute_result"
    }
   ],
   "source": [
    "np.sum(box[...,-1]==box[...,-1][0])"
   ]
  },
  {
   "cell_type": "code",
   "execution_count": 46,
   "id": "715f2942",
   "metadata": {},
   "outputs": [
    {
     "data": {
      "text/plain": [
       "array([[-0.57261693,  0.88702404,  2.455204  ],\n",
       "       [-0.46284708,  0.69346446,  2.455204  ],\n",
       "       [ 0.50963444,  0.62545127,  2.455204  ],\n",
       "       ...,\n",
       "       [ 0.70023715,  1.        , -0.8518951 ],\n",
       "       [-0.4837171 ,  1.        , -0.28362662],\n",
       "       [-0.77042687,  1.        , -0.8799314 ]], dtype=float32)"
      ]
     },
     "execution_count": 46,
     "metadata": {},
     "output_type": "execute_result"
    }
   ],
   "source": [
    "box"
   ]
  },
  {
   "cell_type": "code",
   "execution_count": 47,
   "id": "d785e0f4",
   "metadata": {},
   "outputs": [
    {
     "data": {
      "text/plain": [
       "array([ 2.455204  ,  2.455204  ,  2.455204  , ..., -0.8518951 ,\n",
       "       -0.28362662, -0.8799314 ], dtype=float32)"
      ]
     },
     "execution_count": 47,
     "metadata": {},
     "output_type": "execute_result"
    }
   ],
   "source": [
    "box[...,-1]"
   ]
  },
  {
   "cell_type": "code",
   "execution_count": 48,
   "id": "646432aa",
   "metadata": {},
   "outputs": [],
   "source": [
    "a=torch.linspace(0,4,5)"
   ]
  },
  {
   "cell_type": "code",
   "execution_count": 49,
   "id": "c3a871a2",
   "metadata": {},
   "outputs": [
    {
     "data": {
      "text/plain": [
       "tensor([0., 1., 2., 3., 4.])"
      ]
     },
     "execution_count": 49,
     "metadata": {},
     "output_type": "execute_result"
    }
   ],
   "source": [
    "a"
   ]
  },
  {
   "cell_type": "code",
   "execution_count": 50,
   "id": "1e633c89",
   "metadata": {},
   "outputs": [
    {
     "data": {
      "text/plain": [
       "tensor([0.0000, 1.3333, 2.6667, 4.0000])"
      ]
     },
     "execution_count": 50,
     "metadata": {},
     "output_type": "execute_result"
    }
   ],
   "source": [
    "torch.linspace(0,4,4)"
   ]
  },
  {
   "cell_type": "code",
   "execution_count": 51,
   "id": "739a3a42",
   "metadata": {},
   "outputs": [
    {
     "data": {
      "text/plain": [
       "tensor([ 1.,  2.,  4.,  8., 16.])"
      ]
     },
     "execution_count": 51,
     "metadata": {},
     "output_type": "execute_result"
    }
   ],
   "source": [
    "2**torch.linspace(0,4,5)"
   ]
  },
  {
   "cell_type": "code",
   "execution_count": 52,
   "id": "f507cbac",
   "metadata": {},
   "outputs": [
    {
     "name": "stdout",
     "output_type": "stream",
     "text": [
      "0\n",
      "1\n",
      "2\n",
      "3\n",
      "4\n"
     ]
    }
   ],
   "source": [
    "for i in range(5):\n",
    "    print(i)"
   ]
  },
  {
   "cell_type": "code",
   "execution_count": 53,
   "id": "fd37b3dc",
   "metadata": {},
   "outputs": [],
   "source": [
    "a=torch.tensor([[1,2,3],[1,1,2]])"
   ]
  },
  {
   "cell_type": "code",
   "execution_count": 54,
   "id": "f8b61700",
   "metadata": {},
   "outputs": [
    {
     "data": {
      "text/plain": [
       "tensor([[1, 2, 3],\n",
       "        [1, 1, 2]])"
      ]
     },
     "execution_count": 54,
     "metadata": {},
     "output_type": "execute_result"
    }
   ],
   "source": [
    "a"
   ]
  },
  {
   "cell_type": "code",
   "execution_count": 55,
   "id": "efdac166",
   "metadata": {},
   "outputs": [
    {
     "data": {
      "text/plain": [
       "tensor([[False,  True,  True],\n",
       "        [False, False,  True]])"
      ]
     },
     "execution_count": 55,
     "metadata": {},
     "output_type": "execute_result"
    }
   ],
   "source": [
    "a.ne(1)"
   ]
  },
  {
   "cell_type": "code",
   "execution_count": 56,
   "id": "691e5087",
   "metadata": {},
   "outputs": [
    {
     "data": {
      "text/plain": [
       "tensor([[2],\n",
       "        [1]])"
      ]
     },
     "execution_count": 56,
     "metadata": {},
     "output_type": "execute_result"
    }
   ],
   "source": [
    "a.ne(1).sum(-1,keepdim=True)"
   ]
  },
  {
   "cell_type": "code",
   "execution_count": 57,
   "id": "fe86875a",
   "metadata": {},
   "outputs": [
    {
     "data": {
      "text/plain": [
       "tensor([[1, 2, 3],\n",
       "        [1, 1, 2]])"
      ]
     },
     "execution_count": 57,
     "metadata": {},
     "output_type": "execute_result"
    }
   ],
   "source": [
    "a"
   ]
  },
  {
   "cell_type": "code",
   "execution_count": 58,
   "id": "acba67ce",
   "metadata": {},
   "outputs": [
    {
     "data": {
      "text/plain": [
       "tensor([[[1, 1],\n",
       "         [2, 2],\n",
       "         [3, 3]],\n",
       "\n",
       "        [[1, 1],\n",
       "         [1, 1],\n",
       "         [2, 2]]])"
      ]
     },
     "execution_count": 58,
     "metadata": {},
     "output_type": "execute_result"
    }
   ],
   "source": [
    "a[...,None].expand(2,3,2)"
   ]
  },
  {
   "cell_type": "code",
   "execution_count": 59,
   "id": "74e0a840",
   "metadata": {},
   "outputs": [],
   "source": [
    "b=a[...,None].expand(2,3,2)"
   ]
  },
  {
   "cell_type": "code",
   "execution_count": 60,
   "id": "210f7228",
   "metadata": {},
   "outputs": [
    {
     "data": {
      "text/plain": [
       "tensor([[[1, 1],\n",
       "         [2, 2],\n",
       "         [3, 3]],\n",
       "\n",
       "        [[1, 1],\n",
       "         [1, 1],\n",
       "         [2, 2]]])"
      ]
     },
     "execution_count": 60,
     "metadata": {},
     "output_type": "execute_result"
    }
   ],
   "source": [
    "b"
   ]
  },
  {
   "cell_type": "code",
   "execution_count": 61,
   "id": "76d2772e",
   "metadata": {},
   "outputs": [
    {
     "data": {
      "text/plain": [
       "tensor([[1, 2, 3],\n",
       "        [1, 1, 2]])"
      ]
     },
     "execution_count": 61,
     "metadata": {},
     "output_type": "execute_result"
    }
   ],
   "source": [
    "a"
   ]
  },
  {
   "cell_type": "code",
   "execution_count": 62,
   "id": "c763e964",
   "metadata": {},
   "outputs": [],
   "source": [
    "a[0,0]=100"
   ]
  },
  {
   "cell_type": "code",
   "execution_count": 63,
   "id": "811facbe",
   "metadata": {},
   "outputs": [
    {
     "data": {
      "text/plain": [
       "tensor([[100,   2,   3],\n",
       "        [  1,   1,   2]])"
      ]
     },
     "execution_count": 63,
     "metadata": {},
     "output_type": "execute_result"
    }
   ],
   "source": [
    "a"
   ]
  },
  {
   "cell_type": "code",
   "execution_count": 64,
   "id": "98f9df30",
   "metadata": {},
   "outputs": [
    {
     "data": {
      "text/plain": [
       "tensor([[[100, 100],\n",
       "         [  2,   2],\n",
       "         [  3,   3]],\n",
       "\n",
       "        [[  1,   1],\n",
       "         [  1,   1],\n",
       "         [  2,   2]]])"
      ]
     },
     "execution_count": 64,
     "metadata": {},
     "output_type": "execute_result"
    }
   ],
   "source": [
    "b"
   ]
  },
  {
   "cell_type": "code",
   "execution_count": 65,
   "id": "94bb0d91",
   "metadata": {},
   "outputs": [],
   "source": [
    "c=a.repeat(2,1)"
   ]
  },
  {
   "cell_type": "code",
   "execution_count": 66,
   "id": "37aae423",
   "metadata": {},
   "outputs": [
    {
     "data": {
      "text/plain": [
       "tensor([[100,   2,   3],\n",
       "        [  1,   1,   2],\n",
       "        [100,   2,   3],\n",
       "        [  1,   1,   2]])"
      ]
     },
     "execution_count": 66,
     "metadata": {},
     "output_type": "execute_result"
    }
   ],
   "source": [
    "c"
   ]
  },
  {
   "cell_type": "code",
   "execution_count": 67,
   "id": "cc664ea5",
   "metadata": {},
   "outputs": [],
   "source": [
    "a[0,1]=200"
   ]
  },
  {
   "cell_type": "code",
   "execution_count": 68,
   "id": "72933ed5",
   "metadata": {},
   "outputs": [
    {
     "data": {
      "text/plain": [
       "tensor([[100, 200,   3],\n",
       "        [  1,   1,   2]])"
      ]
     },
     "execution_count": 68,
     "metadata": {},
     "output_type": "execute_result"
    }
   ],
   "source": [
    "a"
   ]
  },
  {
   "cell_type": "code",
   "execution_count": 69,
   "id": "5d7e4f51",
   "metadata": {},
   "outputs": [
    {
     "data": {
      "text/plain": [
       "tensor([[[100, 100],\n",
       "         [200, 200],\n",
       "         [  3,   3]],\n",
       "\n",
       "        [[  1,   1],\n",
       "         [  1,   1],\n",
       "         [  2,   2]]])"
      ]
     },
     "execution_count": 69,
     "metadata": {},
     "output_type": "execute_result"
    }
   ],
   "source": [
    "b"
   ]
  },
  {
   "cell_type": "code",
   "execution_count": 70,
   "id": "a4aa5baf",
   "metadata": {},
   "outputs": [
    {
     "data": {
      "text/plain": [
       "tensor([[100,   2,   3],\n",
       "        [  1,   1,   2],\n",
       "        [100,   2,   3],\n",
       "        [  1,   1,   2]])"
      ]
     },
     "execution_count": 70,
     "metadata": {},
     "output_type": "execute_result"
    }
   ],
   "source": [
    "c"
   ]
  },
  {
   "cell_type": "code",
   "execution_count": 71,
   "id": "a6e4a0c5",
   "metadata": {},
   "outputs": [
    {
     "data": {
      "text/plain": [
       "tensor([[100, 200,   3],\n",
       "        [  1,   1,   2]])"
      ]
     },
     "execution_count": 71,
     "metadata": {},
     "output_type": "execute_result"
    }
   ],
   "source": [
    "a"
   ]
  },
  {
   "cell_type": "code",
   "execution_count": 72,
   "id": "ecd5640b",
   "metadata": {},
   "outputs": [],
   "source": [
    "d=a.repeat_interleave(torch.tensor(5),dim=0)"
   ]
  },
  {
   "cell_type": "code",
   "execution_count": 73,
   "id": "5f6cb907",
   "metadata": {},
   "outputs": [
    {
     "data": {
      "text/plain": [
       "tensor([[100, 200,   3],\n",
       "        [100, 200,   3],\n",
       "        [100, 200,   3],\n",
       "        [100, 200,   3],\n",
       "        [100, 200,   3],\n",
       "        [  1,   1,   2],\n",
       "        [  1,   1,   2],\n",
       "        [  1,   1,   2],\n",
       "        [  1,   1,   2],\n",
       "        [  1,   1,   2]])"
      ]
     },
     "execution_count": 73,
     "metadata": {},
     "output_type": "execute_result"
    }
   ],
   "source": [
    "d"
   ]
  },
  {
   "cell_type": "code",
   "execution_count": 74,
   "id": "622dd3c5",
   "metadata": {},
   "outputs": [],
   "source": [
    "a[0,2]=111"
   ]
  },
  {
   "cell_type": "code",
   "execution_count": 75,
   "id": "df61901f",
   "metadata": {},
   "outputs": [
    {
     "data": {
      "text/plain": [
       "tensor([[100, 200, 111],\n",
       "        [  1,   1,   2]])"
      ]
     },
     "execution_count": 75,
     "metadata": {},
     "output_type": "execute_result"
    }
   ],
   "source": [
    "a"
   ]
  },
  {
   "cell_type": "code",
   "execution_count": 76,
   "id": "e21c4911",
   "metadata": {},
   "outputs": [
    {
     "data": {
      "text/plain": [
       "tensor([[100, 200,   3],\n",
       "        [100, 200,   3],\n",
       "        [100, 200,   3],\n",
       "        [100, 200,   3],\n",
       "        [100, 200,   3],\n",
       "        [  1,   1,   2],\n",
       "        [  1,   1,   2],\n",
       "        [  1,   1,   2],\n",
       "        [  1,   1,   2],\n",
       "        [  1,   1,   2]])"
      ]
     },
     "execution_count": 76,
     "metadata": {},
     "output_type": "execute_result"
    }
   ],
   "source": [
    "d"
   ]
  },
  {
   "cell_type": "code",
   "execution_count": 77,
   "id": "beb4a521",
   "metadata": {},
   "outputs": [
    {
     "data": {
      "text/plain": [
       "tensor([[[100, 100],\n",
       "         [200, 200],\n",
       "         [111, 111]],\n",
       "\n",
       "        [[  1,   1],\n",
       "         [  1,   1],\n",
       "         [  2,   2]]])"
      ]
     },
     "execution_count": 77,
     "metadata": {},
     "output_type": "execute_result"
    }
   ],
   "source": [
    "b"
   ]
  },
  {
   "cell_type": "code",
   "execution_count": 78,
   "id": "c82c215c",
   "metadata": {},
   "outputs": [
    {
     "data": {
      "text/plain": [
       "tensor([[100,   2,   3],\n",
       "        [  1,   1,   2],\n",
       "        [100,   2,   3],\n",
       "        [  1,   1,   2]])"
      ]
     },
     "execution_count": 78,
     "metadata": {},
     "output_type": "execute_result"
    }
   ],
   "source": [
    "c"
   ]
  },
  {
   "cell_type": "code",
   "execution_count": 79,
   "id": "02165496",
   "metadata": {},
   "outputs": [],
   "source": [
    "aa=torch.arange(24).reshape(2,3,4)"
   ]
  },
  {
   "cell_type": "code",
   "execution_count": 80,
   "id": "0a0710a5",
   "metadata": {},
   "outputs": [
    {
     "data": {
      "text/plain": [
       "tensor([[[ 0,  1,  2,  3],\n",
       "         [ 4,  5,  6,  7],\n",
       "         [ 8,  9, 10, 11]],\n",
       "\n",
       "        [[12, 13, 14, 15],\n",
       "         [16, 17, 18, 19],\n",
       "         [20, 21, 22, 23]]])"
      ]
     },
     "execution_count": 80,
     "metadata": {},
     "output_type": "execute_result"
    }
   ],
   "source": [
    "aa"
   ]
  },
  {
   "cell_type": "code",
   "execution_count": 81,
   "id": "d956205b",
   "metadata": {},
   "outputs": [
    {
     "data": {
      "text/plain": [
       "torch.Size([2, 3, 1, 4])"
      ]
     },
     "execution_count": 81,
     "metadata": {},
     "output_type": "execute_result"
    }
   ],
   "source": [
    "aa.unsqueeze(-2).shape"
   ]
  },
  {
   "cell_type": "code",
   "execution_count": 82,
   "id": "ac9e2f16",
   "metadata": {},
   "outputs": [
    {
     "data": {
      "text/plain": [
       "torch.Size([2, 3, 1, 4])"
      ]
     },
     "execution_count": 82,
     "metadata": {},
     "output_type": "execute_result"
    }
   ],
   "source": [
    "aa[...,None,:].shape"
   ]
  },
  {
   "cell_type": "code",
   "execution_count": 83,
   "id": "02924608",
   "metadata": {},
   "outputs": [
    {
     "data": {
      "text/plain": [
       "tensor([[[ 0,  1,  2,  3],\n",
       "         [ 4,  5,  6,  7],\n",
       "         [ 8,  9, 10, 11]],\n",
       "\n",
       "        [[12, 13, 14, 15],\n",
       "         [16, 17, 18, 19],\n",
       "         [20, 21, 22, 23]]])"
      ]
     },
     "execution_count": 83,
     "metadata": {},
     "output_type": "execute_result"
    }
   ],
   "source": [
    "aa"
   ]
  },
  {
   "cell_type": "code",
   "execution_count": 84,
   "id": "f14dcb97",
   "metadata": {},
   "outputs": [
    {
     "data": {
      "text/plain": [
       "tensor([ 3,  4,  5,  6,  7,  8,  9, 10, 11, 12, 13, 14, 15, 16, 17, 18, 19, 20,\n",
       "        21, 22, 23])"
      ]
     },
     "execution_count": 84,
     "metadata": {},
     "output_type": "execute_result"
    }
   ],
   "source": [
    "aa[aa>2]"
   ]
  },
  {
   "cell_type": "code",
   "execution_count": 85,
   "id": "3e0ad2d4",
   "metadata": {},
   "outputs": [
    {
     "data": {
      "text/plain": [
       "tensor([[[False, False, False,  True],\n",
       "         [ True,  True,  True,  True],\n",
       "         [ True,  True,  True,  True]],\n",
       "\n",
       "        [[ True,  True,  True,  True],\n",
       "         [ True,  True,  True,  True],\n",
       "         [ True,  True,  True,  True]]])"
      ]
     },
     "execution_count": 85,
     "metadata": {},
     "output_type": "execute_result"
    }
   ],
   "source": [
    "aa>2"
   ]
  },
  {
   "cell_type": "code",
   "execution_count": 86,
   "id": "b48613a6",
   "metadata": {},
   "outputs": [
    {
     "data": {
      "text/plain": [
       "tensor([ 1,  2,  3,  4,  5,  6,  7,  8,  9, 10, 11, 12, 13, 14, 15, 16, 17, 18,\n",
       "        19, 20, 21, 22, 23])"
      ]
     },
     "execution_count": 86,
     "metadata": {},
     "output_type": "execute_result"
    }
   ],
   "source": [
    "aa[aa.ne(0)]"
   ]
  },
  {
   "cell_type": "code",
   "execution_count": 87,
   "id": "0d0ddeb7",
   "metadata": {},
   "outputs": [],
   "source": [
    "aa[aa.ne(0)]=100"
   ]
  },
  {
   "cell_type": "code",
   "execution_count": 88,
   "id": "a23e3575",
   "metadata": {},
   "outputs": [
    {
     "data": {
      "text/plain": [
       "tensor([[[  0, 100, 100, 100],\n",
       "         [100, 100, 100, 100],\n",
       "         [100, 100, 100, 100]],\n",
       "\n",
       "        [[100, 100, 100, 100],\n",
       "         [100, 100, 100, 100],\n",
       "         [100, 100, 100, 100]]])"
      ]
     },
     "execution_count": 88,
     "metadata": {},
     "output_type": "execute_result"
    }
   ],
   "source": [
    "aa"
   ]
  },
  {
   "cell_type": "code",
   "execution_count": 89,
   "id": "2358b063",
   "metadata": {},
   "outputs": [
    {
     "data": {
      "text/plain": [
       "tensor([[[  0, 100, 100, 100],\n",
       "         [100, 100, 100, 100],\n",
       "         [100, 100, 100, 100]],\n",
       "\n",
       "        [[100, 100, 100, 100],\n",
       "         [100, 100, 100, 100],\n",
       "         [100, 100, 100, 100]]])"
      ]
     },
     "execution_count": 89,
     "metadata": {},
     "output_type": "execute_result"
    }
   ],
   "source": [
    "aa"
   ]
  },
  {
   "cell_type": "code",
   "execution_count": 90,
   "id": "277850d9",
   "metadata": {},
   "outputs": [],
   "source": [
    "bb=torch.arange(24).reshape(2,3,4)"
   ]
  },
  {
   "cell_type": "code",
   "execution_count": 91,
   "id": "ce0b93d6",
   "metadata": {},
   "outputs": [
    {
     "data": {
      "text/plain": [
       "tensor([[[ 0,  1,  2,  3],\n",
       "         [ 4,  5,  6,  7],\n",
       "         [ 8,  9, 10, 11]],\n",
       "\n",
       "        [[12, 13, 14, 15],\n",
       "         [16, 17, 18, 19],\n",
       "         [20, 21, 22, 23]]])"
      ]
     },
     "execution_count": 91,
     "metadata": {},
     "output_type": "execute_result"
    }
   ],
   "source": [
    "bb"
   ]
  },
  {
   "cell_type": "code",
   "execution_count": 92,
   "id": "51d0b75f",
   "metadata": {},
   "outputs": [],
   "source": [
    "aa[aa.ne(0)]=bb[aa.ne(0)]"
   ]
  },
  {
   "cell_type": "code",
   "execution_count": 93,
   "id": "99e48192",
   "metadata": {},
   "outputs": [
    {
     "data": {
      "text/plain": [
       "tensor([[[ 0,  1,  2,  3],\n",
       "         [ 4,  5,  6,  7],\n",
       "         [ 8,  9, 10, 11]],\n",
       "\n",
       "        [[12, 13, 14, 15],\n",
       "         [16, 17, 18, 19],\n",
       "         [20, 21, 22, 23]]])"
      ]
     },
     "execution_count": 93,
     "metadata": {},
     "output_type": "execute_result"
    }
   ],
   "source": [
    "aa"
   ]
  },
  {
   "cell_type": "code",
   "execution_count": 94,
   "id": "d060e9d1",
   "metadata": {},
   "outputs": [
    {
     "data": {
      "text/plain": [
       "tensor([[[ True,  True,  True,  True],\n",
       "         [ True,  True,  True,  True],\n",
       "         [ True,  True,  True,  True]],\n",
       "\n",
       "        [[False, False, False, False],\n",
       "         [False, False, False, False],\n",
       "         [False, False, False, False]]])"
      ]
     },
     "execution_count": 94,
     "metadata": {},
     "output_type": "execute_result"
    }
   ],
   "source": [
    "aa.le(11)"
   ]
  },
  {
   "cell_type": "code",
   "execution_count": 95,
   "id": "5454ee0b",
   "metadata": {},
   "outputs": [],
   "source": [
    "aa[aa.le(11)]=100"
   ]
  },
  {
   "cell_type": "code",
   "execution_count": 96,
   "id": "ffce00e7",
   "metadata": {},
   "outputs": [
    {
     "data": {
      "text/plain": [
       "tensor([[[100, 100, 100, 100],\n",
       "         [100, 100, 100, 100],\n",
       "         [100, 100, 100, 100]],\n",
       "\n",
       "        [[ 12,  13,  14,  15],\n",
       "         [ 16,  17,  18,  19],\n",
       "         [ 20,  21,  22,  23]]])"
      ]
     },
     "execution_count": 96,
     "metadata": {},
     "output_type": "execute_result"
    }
   ],
   "source": [
    "aa"
   ]
  },
  {
   "cell_type": "code",
   "execution_count": 97,
   "id": "0897993c",
   "metadata": {},
   "outputs": [],
   "source": [
    "aa[aa.eq(100)]=bb[aa.eq(100)]"
   ]
  },
  {
   "cell_type": "code",
   "execution_count": 98,
   "id": "5771596b",
   "metadata": {},
   "outputs": [
    {
     "data": {
      "text/plain": [
       "tensor([[[ 0,  1,  2,  3],\n",
       "         [ 4,  5,  6,  7],\n",
       "         [ 8,  9, 10, 11]],\n",
       "\n",
       "        [[12, 13, 14, 15],\n",
       "         [16, 17, 18, 19],\n",
       "         [20, 21, 22, 23]]])"
      ]
     },
     "execution_count": 98,
     "metadata": {},
     "output_type": "execute_result"
    }
   ],
   "source": [
    "aa"
   ]
  },
  {
   "cell_type": "code",
   "execution_count": 99,
   "id": "81b2b9d5",
   "metadata": {},
   "outputs": [
    {
     "data": {
      "text/plain": [
       "tensor([[[False, False, False, False],\n",
       "         [False, False, False, False],\n",
       "         [False, False, False, False]],\n",
       "\n",
       "        [[False, False, False, False],\n",
       "         [False, False, False, False],\n",
       "         [False, False, False, False]]])"
      ]
     },
     "execution_count": 99,
     "metadata": {},
     "output_type": "execute_result"
    }
   ],
   "source": [
    "aa.eq(100)"
   ]
  },
  {
   "cell_type": "code",
   "execution_count": 100,
   "id": "06263c09",
   "metadata": {},
   "outputs": [],
   "source": [
    "b=torch.tensor([[True,False,True],[False,True,False]])"
   ]
  },
  {
   "cell_type": "code",
   "execution_count": 101,
   "id": "7d7f95ae",
   "metadata": {},
   "outputs": [
    {
     "data": {
      "text/plain": [
       "tensor([[ 0,  1,  2,  3],\n",
       "        [ 8,  9, 10, 11],\n",
       "        [16, 17, 18, 19]])"
      ]
     },
     "execution_count": 101,
     "metadata": {},
     "output_type": "execute_result"
    }
   ],
   "source": [
    "aa[b]"
   ]
  },
  {
   "cell_type": "code",
   "execution_count": 102,
   "id": "b877bacd",
   "metadata": {},
   "outputs": [],
   "source": [
    "a=torch.rand(4,2).bool()"
   ]
  },
  {
   "cell_type": "code",
   "execution_count": 103,
   "id": "8f3854ba",
   "metadata": {},
   "outputs": [
    {
     "data": {
      "text/plain": [
       "tensor([[True, True],\n",
       "        [True, True],\n",
       "        [True, True],\n",
       "        [True, True]])"
      ]
     },
     "execution_count": 103,
     "metadata": {},
     "output_type": "execute_result"
    }
   ],
   "source": [
    "a"
   ]
  },
  {
   "cell_type": "code",
   "execution_count": 104,
   "id": "8901c286",
   "metadata": {},
   "outputs": [
    {
     "data": {
      "text/plain": [
       "tensor([[[ 0,  1,  2,  3],\n",
       "         [ 4,  5,  6,  7],\n",
       "         [ 8,  9, 10, 11]],\n",
       "\n",
       "        [[12, 13, 14, 15],\n",
       "         [16, 17, 18, 19],\n",
       "         [20, 21, 22, 23]]])"
      ]
     },
     "execution_count": 104,
     "metadata": {},
     "output_type": "execute_result"
    }
   ],
   "source": [
    "aa"
   ]
  },
  {
   "cell_type": "code",
   "execution_count": 105,
   "id": "7147062d",
   "metadata": {},
   "outputs": [
    {
     "data": {
      "text/plain": [
       "tensor([[[False,  True,  True,  True],\n",
       "         [ True,  True,  True,  True],\n",
       "         [ True,  True,  True,  True]],\n",
       "\n",
       "        [[ True,  True,  True,  True],\n",
       "         [ True,  True,  True,  True],\n",
       "         [ True,  True,  True,  True]]])"
      ]
     },
     "execution_count": 105,
     "metadata": {},
     "output_type": "execute_result"
    }
   ],
   "source": [
    "aa!=0"
   ]
  },
  {
   "cell_type": "code",
   "execution_count": 106,
   "id": "30c44e72",
   "metadata": {},
   "outputs": [
    {
     "data": {
      "text/plain": [
       "tensor([[[False],\n",
       "         [ True],\n",
       "         [ True]],\n",
       "\n",
       "        [[ True],\n",
       "         [ True],\n",
       "         [ True]]])"
      ]
     },
     "execution_count": 106,
     "metadata": {},
     "output_type": "execute_result"
    }
   ],
   "source": [
    "torch.all(aa!=0,dim=-1,keepdim=True)"
   ]
  },
  {
   "cell_type": "code",
   "execution_count": 107,
   "id": "4876aaa6",
   "metadata": {},
   "outputs": [],
   "source": [
    "a=torch.arange(3)+2"
   ]
  },
  {
   "cell_type": "code",
   "execution_count": 108,
   "id": "a04a44f4",
   "metadata": {},
   "outputs": [
    {
     "data": {
      "text/plain": [
       "tensor([ 2,  6, 24])"
      ]
     },
     "execution_count": 108,
     "metadata": {},
     "output_type": "execute_result"
    }
   ],
   "source": [
    "torch.cumprod(a,dim=0)"
   ]
  },
  {
   "cell_type": "code",
   "execution_count": null,
   "id": "14c21511",
   "metadata": {},
   "outputs": [],
   "source": []
  },
  {
   "cell_type": "code",
   "execution_count": 109,
   "id": "b445b343",
   "metadata": {},
   "outputs": [
    {
     "data": {
      "text/plain": [
       "tensor([2, 3, 4])"
      ]
     },
     "execution_count": 109,
     "metadata": {},
     "output_type": "execute_result"
    }
   ],
   "source": [
    "a"
   ]
  },
  {
   "cell_type": "code",
   "execution_count": 110,
   "id": "ca00adc5",
   "metadata": {},
   "outputs": [
    {
     "name": "stdout",
     "output_type": "stream",
     "text": [
      "Help on built-in function ceil in module torch:\n",
      "\n",
      "ceil(...)\n",
      "    ceil(input, *, out=None) -> Tensor\n",
      "    \n",
      "    Returns a new tensor with the ceil of the elements of :attr:`input`,\n",
      "    the smallest integer greater than or equal to each element.\n",
      "    \n",
      "    For integer inputs, follows the array-api convention of returning a\n",
      "    copy of the input tensor.\n",
      "    \n",
      "    .. math::\n",
      "        \\text{out}_{i} = \\left\\lceil \\text{input}_{i} \\right\\rceil\n",
      "    \n",
      "    Args:\n",
      "        input (Tensor): the input tensor.\n",
      "    \n",
      "    Keyword args:\n",
      "        out (Tensor, optional): the output tensor.\n",
      "    \n",
      "    Example::\n",
      "    \n",
      "        >>> a = torch.randn(4)\n",
      "        >>> a\n",
      "        tensor([-0.6341, -1.4208, -1.0900,  0.5826])\n",
      "        >>> torch.ceil(a)\n",
      "        tensor([-0., -1., -1.,  1.])\n",
      "\n"
     ]
    }
   ],
   "source": [
    "help(torch.ceil)"
   ]
  },
  {
   "cell_type": "code",
   "execution_count": 111,
   "id": "eecdeb3c",
   "metadata": {},
   "outputs": [
    {
     "name": "stdout",
     "output_type": "stream",
     "text": [
      "Jupyter environment detected. Enabling Open3D WebVisualizer.\n",
      "[Open3D INFO] WebRTC GUI backend enabled.\n",
      "[Open3D INFO] WebRTCWindowSystem: HTTP handshake server disabled.\n"
     ]
    }
   ],
   "source": [
    "import open3d.ml.torch as ml3d"
   ]
  },
  {
   "cell_type": "code",
   "execution_count": 152,
   "id": "595f039b",
   "metadata": {},
   "outputs": [],
   "source": [
    "inp_positions = torch.randn([40,3])\n",
    "inp_features = torch.randn([40,8])\n",
    "out_positions = torch.randn([20,3])"
   ]
  },
  {
   "cell_type": "code",
   "execution_count": 153,
   "id": "f8d8144a",
   "metadata": {},
   "outputs": [],
   "source": [
    "conv = ml3d.layers.ContinuousConv(in_channels=8, filters=32, kernel_size=[3,3,3])"
   ]
  },
  {
   "cell_type": "code",
   "execution_count": 154,
   "id": "01c8d9b8",
   "metadata": {},
   "outputs": [],
   "source": [
    "out_features = conv(inp_features, inp_positions, out_positions, extents=2.0)"
   ]
  },
  {
   "cell_type": "code",
   "execution_count": 155,
   "id": "3bb409e4",
   "metadata": {},
   "outputs": [
    {
     "data": {
      "text/plain": [
       "torch.Size([20, 32])"
      ]
     },
     "execution_count": 155,
     "metadata": {},
     "output_type": "execute_result"
    }
   ],
   "source": [
    "out_features.shape"
   ]
  },
  {
   "cell_type": "code",
   "execution_count": null,
   "id": "c1f11519",
   "metadata": {},
   "outputs": [],
   "source": []
  }
 ],
 "metadata": {
  "kernelspec": {
   "display_name": "Python 3 (ipykernel)",
   "language": "python",
   "name": "python3"
  },
  "language_info": {
   "codemirror_mode": {
    "name": "ipython",
    "version": 3
   },
   "file_extension": ".py",
   "mimetype": "text/x-python",
   "name": "python",
   "nbconvert_exporter": "python",
   "pygments_lexer": "ipython3",
   "version": "3.7.16"
  }
 },
 "nbformat": 4,
 "nbformat_minor": 5
}
